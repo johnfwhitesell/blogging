{
 "cells": [
  {
   "cell_type": "markdown",
   "metadata": {},
   "source": [
    "[:,0] is a nifty little syntax but I'm always forgetting what it actually does when I need it.  So this is half a reminder for myself and half an explanation for anyone who happens by.\n",
    "\n",
    "So first things first, [:,] is used to index at multiple levels so let's make a list of lists we can use this on:"
   ]
  },
  {
   "cell_type": "code",
   "execution_count": 1,
   "metadata": {},
   "outputs": [
    {
     "ename": "TypeError",
     "evalue": "list indices must be integers or slices, not tuple",
     "output_type": "error",
     "traceback": [
      "\u001b[1;31m---------------------------------------------------------------------------\u001b[0m",
      "\u001b[1;31mTypeError\u001b[0m                                 Traceback (most recent call last)",
      "\u001b[1;32m<ipython-input-1-afe78a02c832>\u001b[0m in \u001b[0;36m<module>\u001b[1;34m()\u001b[0m\n\u001b[0;32m      5\u001b[0m     \u001b[1;33m[\u001b[0m\u001b[1;34m'1d'\u001b[0m\u001b[1;33m,\u001b[0m\u001b[1;34m'2d'\u001b[0m\u001b[1;33m,\u001b[0m\u001b[1;34m'3d'\u001b[0m\u001b[1;33m,\u001b[0m\u001b[1;34m'4d'\u001b[0m\u001b[1;33m]\u001b[0m\u001b[1;33m,\u001b[0m\u001b[1;33m\u001b[0m\u001b[0m\n\u001b[0;32m      6\u001b[0m ]\n\u001b[1;32m----> 7\u001b[1;33m \u001b[0mfoobar\u001b[0m\u001b[1;33m[\u001b[0m\u001b[1;33m:\u001b[0m\u001b[1;33m,\u001b[0m\u001b[1;36m0\u001b[0m\u001b[1;33m]\u001b[0m\u001b[1;33m\u001b[0m\u001b[0m\n\u001b[0m",
      "\u001b[1;31mTypeError\u001b[0m: list indices must be integers or slices, not tuple"
     ]
    }
   ],
   "source": [
    "foobar = [\n",
    "    ['1a','2a','3a','4a'],\n",
    "    ['1b','2b','3b','4b'],\n",
    "    ['1c','2c','3c','4c'],\n",
    "    ['1d','2d','3d','4d'],\n",
    "]\n",
    "foobar[:,0]"
   ]
  },
  {
   "cell_type": "code",
   "execution_count": 2,
   "metadata": {},
   "outputs": [],
   "source": [
    "\"\"\"Whoops, it broke!  This is because foobar is a list and the [:,] indexing is for a numpy array.\n",
    "Like half the problems I have with this is because I forget that I need to convert to an array first\"\"\"\n",
    "\n",
    "import numpy as np\n",
    "foobar = np.array(foobar)"
   ]
  },
  {
   "cell_type": "code",
   "execution_count": 3,
   "metadata": {},
   "outputs": [
    {
     "name": "stdout",
     "output_type": "stream",
     "text": [
      "['1a' '1b' '1c' '1d']\n"
     ]
    }
   ],
   "source": [
    "first = foobar[:,0]\n",
    "print(first)"
   ]
  },
  {
   "cell_type": "code",
   "execution_count": 4,
   "metadata": {},
   "outputs": [
    {
     "name": "stdout",
     "output_type": "stream",
     "text": [
      "['1a' '2a' '3a' '4a']\n"
     ]
    }
   ],
   "source": [
    "# We wouldn't get the same result if we just tried indexing it the same way we can index a list\n",
    "second = foobar[:][0]\n",
    "print(second)"
   ]
  },
  {
   "cell_type": "code",
   "execution_count": 5,
   "metadata": {},
   "outputs": [
    {
     "name": "stdout",
     "output_type": "stream",
     "text": [
      "[['1a' '2a' '3a' '4a']\n",
      " ['1b' '2b' '3b' '4b']\n",
      " ['1c' '2c' '3c' '4c']\n",
      " ['1d' '2d' '3d' '4d']]\n"
     ]
    }
   ],
   "source": [
    "# To see this difference, it's helpful to think about exactly what is going into foobar:\n",
    "\n",
    "\n",
    "a=['1a','2a','3a','4a']\n",
    "b=['1b','2b','3b','4b']\n",
    "c=['1c','2c','3c','4c']\n",
    "d=['1d','2d','3d','4d']\n",
    "\n",
    "foobar = np.array([a,b,c,d])\n",
    "print(foobar)"
   ]
  },
  {
   "cell_type": "markdown",
   "metadata": {},
   "source": [
    "This is the same thing as before but now we have name for each of the lists that become each row.\n",
    "So when we selected foobar[:] what we did was select [a,b,c,d], that is to say the entire array.\n",
    "If we use [:,] it knows that we are selecting within each of a,b,c,d but if we use [][] it is \n",
    "just going to be selecting from that list [a,b,c,d], then selecting from it again.  This happens\n",
    "as long as there is more then one entry left in the list.  For example:"
   ]
  },
  {
   "cell_type": "code",
   "execution_count": 6,
   "metadata": {},
   "outputs": [
    {
     "name": "stdout",
     "output_type": "stream",
     "text": [
      "['1b' '2b' '3b' '4b']\n",
      "1b\n"
     ]
    }
   ],
   "source": [
    "print(foobar[1:3][0]), print(foobar[1][0]);  # the semicolon just suppresses the output, i.e. python isn't going to display what was returned"
   ]
  },
  {
   "cell_type": "markdown",
   "metadata": {},
   "source": [
    "The [:,] notation can also work at multiple layers:"
   ]
  },
  {
   "cell_type": "code",
   "execution_count": 7,
   "metadata": {},
   "outputs": [
    {
     "name": "stdout",
     "output_type": "stream",
     "text": [
      "[[['1a' '2a' '3a' '4a']\n",
      "  ['1b' '2b' '3b' '4b']\n",
      "  ['1c' '2c' '3c' '4c']\n",
      "  ['1d' '2d' '3d' '4d']]\n",
      "\n",
      " [['1d' '2d' '3d' '4d']\n",
      "  ['1c' '2c' '3c' '4c']\n",
      "  ['1b' '2b' '3b' '4b']\n",
      "  ['1a' '2a' '3a' '4a']]]\n"
     ]
    }
   ],
   "source": [
    "foobar = [a,b,c,d]\n",
    "barfoo = [d,c,b,a]\n",
    "\n",
    "spam = np.array([foobar, barfoo])\n",
    "print(spam)"
   ]
  },
  {
   "cell_type": "code",
   "execution_count": 8,
   "metadata": {},
   "outputs": [
    {
     "name": "stdout",
     "output_type": "stream",
     "text": [
      "[['2a' '2b' '2c' '2d']\n",
      " ['2d' '2c' '2b' '2a']]\n"
     ]
    }
   ],
   "source": [
    "print(spam[:,:,1])"
   ]
  },
  {
   "cell_type": "code",
   "execution_count": 9,
   "metadata": {},
   "outputs": [
    {
     "name": "stdout",
     "output_type": "stream",
     "text": [
      "[['1d' '2d' '3d' '4d']\n",
      " ['1c' '2c' '3c' '4c']\n",
      " ['1b' '2b' '3b' '4b']\n",
      " ['1a' '2a' '3a' '4a']]\n"
     ]
    }
   ],
   "source": [
    "# compare with\n",
    "print(spam[:][:][1])"
   ]
  }
 ],
 "metadata": {
  "kernelspec": {
   "display_name": "Python 3",
   "language": "python",
   "name": "python3"
  },
  "language_info": {
   "codemirror_mode": {
    "name": "ipython",
    "version": 3
   },
   "file_extension": ".py",
   "mimetype": "text/x-python",
   "name": "python",
   "nbconvert_exporter": "python",
   "pygments_lexer": "ipython3",
   "version": "3.6.4"
  }
 },
 "nbformat": 4,
 "nbformat_minor": 2
}
